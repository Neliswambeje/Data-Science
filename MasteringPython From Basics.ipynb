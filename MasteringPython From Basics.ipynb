{
 "cells": [
  {
   "cell_type": "markdown",
   "id": "0a3f725e-45b3-49a4-a0cd-7659b203d633",
   "metadata": {},
   "source": [
    "# This is Python Tutorial"
   ]
  },
  {
   "cell_type": "markdown",
   "id": "31edb272-4b02-4598-bb6b-75ef865fcd8a",
   "metadata": {},
   "source": [
    "This is my first program in data science python"
   ]
  },
  {
   "cell_type": "code",
   "execution_count": 3,
   "id": "9ab1de9c-9390-43d8-90ee-716092720954",
   "metadata": {},
   "outputs": [
    {
     "name": "stdout",
     "output_type": "stream",
     "text": [
      "Hello World\n"
     ]
    }
   ],
   "source": [
    "print(\"Hello World\")"
   ]
  },
  {
   "cell_type": "markdown",
   "id": "b5f668e1-2773-4982-b4db-3a31158f3a14",
   "metadata": {},
   "source": [
    "$a = b+c$"
   ]
  },
  {
   "cell_type": "markdown",
   "id": "8932727f-65a0-4cb8-80dd-63655730b074",
   "metadata": {},
   "source": [
    "# Variables"
   ]
  },
  {
   "cell_type": "code",
   "execution_count": 6,
   "id": "1a1d6369-dad7-4af7-b460-c6d77f81a03d",
   "metadata": {},
   "outputs": [],
   "source": [
    "x = 3"
   ]
  },
  {
   "cell_type": "code",
   "execution_count": 7,
   "id": "6e649c9d-3e69-461a-9e54-1856629c82f4",
   "metadata": {},
   "outputs": [
    {
     "name": "stdout",
     "output_type": "stream",
     "text": [
      "Variable               Type        Data/Info\n",
      "--------------------------------------------\n",
      "dataframe_columns      function    <function dataframe_colum<...>ns at 0x0000025C8BF51D00>\n",
      "dataframe_hash         function    <function dataframe_hash at 0x0000025C8BF52340>\n",
      "dtypes_str             function    <function dtypes_str at 0x0000025C8BF51940>\n",
      "get_dataframes         function    <function get_dataframes at 0x0000025C8BF527A0>\n",
      "getpass                module      <module 'getpass' from 'C<...>conda3\\\\Lib\\\\getpass.py'>\n",
      "hashlib                module      <module 'hashlib' from 'C<...>conda3\\\\Lib\\\\hashlib.py'>\n",
      "import_pandas_safely   function    <function import_pandas_s<...>ly at 0x0000025C8BF52B60>\n",
      "is_data_frame          function    <function is_data_frame at 0x0000025C8BF523E0>\n",
      "json                   module      <module 'json' from 'C:\\\\<...>\\Lib\\\\json\\\\__init__.py'>\n",
      "x                      int         3\n"
     ]
    }
   ],
   "source": [
    "%whos"
   ]
  },
  {
   "cell_type": "code",
   "execution_count": 8,
   "id": "7f0a7e09-5e8b-4b9d-a641-8165f19f2244",
   "metadata": {},
   "outputs": [
    {
     "name": "stdout",
     "output_type": "stream",
     "text": [
      "<class 'int'>\n"
     ]
    }
   ],
   "source": [
    "print(type(x))"
   ]
  },
  {
   "cell_type": "code",
   "execution_count": 9,
   "id": "9ce009ff-ba30-4521-9909-dd2549f07278",
   "metadata": {},
   "outputs": [],
   "source": [
    "x = 5.7"
   ]
  },
  {
   "cell_type": "code",
   "execution_count": 10,
   "id": "32e13452-0b7c-42ac-b966-1415f11eb7a0",
   "metadata": {},
   "outputs": [
    {
     "name": "stdout",
     "output_type": "stream",
     "text": [
      "Variable               Type        Data/Info\n",
      "--------------------------------------------\n",
      "dataframe_columns      function    <function dataframe_colum<...>ns at 0x0000025C8BF51D00>\n",
      "dataframe_hash         function    <function dataframe_hash at 0x0000025C8BF52340>\n",
      "dtypes_str             function    <function dtypes_str at 0x0000025C8BF51940>\n",
      "get_dataframes         function    <function get_dataframes at 0x0000025C8BF527A0>\n",
      "getpass                module      <module 'getpass' from 'C<...>conda3\\\\Lib\\\\getpass.py'>\n",
      "hashlib                module      <module 'hashlib' from 'C<...>conda3\\\\Lib\\\\hashlib.py'>\n",
      "import_pandas_safely   function    <function import_pandas_s<...>ly at 0x0000025C8BF52B60>\n",
      "is_data_frame          function    <function is_data_frame at 0x0000025C8BF523E0>\n",
      "json                   module      <module 'json' from 'C:\\\\<...>\\Lib\\\\json\\\\__init__.py'>\n",
      "x                      float       5.7\n"
     ]
    }
   ],
   "source": [
    "%whos"
   ]
  },
  {
   "cell_type": "code",
   "execution_count": 11,
   "id": "b03f647b-29f6-4362-a76c-de47cbd2e9f1",
   "metadata": {},
   "outputs": [],
   "source": [
    "a,b,c,d,e = 3,5,6.2,7.5,25"
   ]
  },
  {
   "cell_type": "code",
   "execution_count": 12,
   "id": "fc15b65a-6613-4c7d-8e23-a58a7d963e67",
   "metadata": {},
   "outputs": [
    {
     "name": "stdout",
     "output_type": "stream",
     "text": [
      "Variable               Type        Data/Info\n",
      "--------------------------------------------\n",
      "a                      int         3\n",
      "b                      int         5\n",
      "c                      float       6.2\n",
      "d                      float       7.5\n",
      "dataframe_columns      function    <function dataframe_colum<...>ns at 0x0000025C8BF51D00>\n",
      "dataframe_hash         function    <function dataframe_hash at 0x0000025C8BF52340>\n",
      "dtypes_str             function    <function dtypes_str at 0x0000025C8BF51940>\n",
      "e                      int         25\n",
      "get_dataframes         function    <function get_dataframes at 0x0000025C8BF527A0>\n",
      "getpass                module      <module 'getpass' from 'C<...>conda3\\\\Lib\\\\getpass.py'>\n",
      "hashlib                module      <module 'hashlib' from 'C<...>conda3\\\\Lib\\\\hashlib.py'>\n",
      "import_pandas_safely   function    <function import_pandas_s<...>ly at 0x0000025C8BF52B60>\n",
      "is_data_frame          function    <function is_data_frame at 0x0000025C8BF523E0>\n",
      "json                   module      <module 'json' from 'C:\\\\<...>\\Lib\\\\json\\\\__init__.py'>\n",
      "x                      float       5.7\n"
     ]
    }
   ],
   "source": [
    "%whos"
   ]
  },
  {
   "cell_type": "code",
   "execution_count": 13,
   "id": "592110c4-98cd-428d-9edc-1029a6f0a49b",
   "metadata": {},
   "outputs": [],
   "source": [
    "del x"
   ]
  },
  {
   "cell_type": "code",
   "execution_count": 14,
   "id": "c30645a2-19d5-4334-8668-f657f8a916e4",
   "metadata": {},
   "outputs": [
    {
     "name": "stdout",
     "output_type": "stream",
     "text": [
      "Variable               Type        Data/Info\n",
      "--------------------------------------------\n",
      "a                      int         3\n",
      "b                      int         5\n",
      "c                      float       6.2\n",
      "d                      float       7.5\n",
      "dataframe_columns      function    <function dataframe_colum<...>ns at 0x0000025C8BF51D00>\n",
      "dataframe_hash         function    <function dataframe_hash at 0x0000025C8BF52340>\n",
      "dtypes_str             function    <function dtypes_str at 0x0000025C8BF51940>\n",
      "e                      int         25\n",
      "get_dataframes         function    <function get_dataframes at 0x0000025C8BF527A0>\n",
      "getpass                module      <module 'getpass' from 'C<...>conda3\\\\Lib\\\\getpass.py'>\n",
      "hashlib                module      <module 'hashlib' from 'C<...>conda3\\\\Lib\\\\hashlib.py'>\n",
      "import_pandas_safely   function    <function import_pandas_s<...>ly at 0x0000025C8BF52B60>\n",
      "is_data_frame          function    <function is_data_frame at 0x0000025C8BF523E0>\n",
      "json                   module      <module 'json' from 'C:\\\\<...>\\Lib\\\\json\\\\__init__.py'>\n"
     ]
    }
   ],
   "source": [
    "%whos"
   ]
  },
  {
   "cell_type": "code",
   "execution_count": 15,
   "id": "931c4466-6336-4e7f-96e5-c4b9d08584ee",
   "metadata": {},
   "outputs": [],
   "source": [
    "c = 2+4j"
   ]
  },
  {
   "cell_type": "code",
   "execution_count": 16,
   "id": "a4b53552-847c-4f6a-bbc9-d5954db86300",
   "metadata": {},
   "outputs": [
    {
     "name": "stdout",
     "output_type": "stream",
     "text": [
      "<class 'complex'>\n"
     ]
    }
   ],
   "source": [
    "print(type(c))"
   ]
  },
  {
   "cell_type": "markdown",
   "id": "3fca1aac-dd9b-47ea-8327-778b8fcb8ffd",
   "metadata": {},
   "source": [
    "# Operators"
   ]
  },
  {
   "cell_type": "code",
   "execution_count": 18,
   "id": "0228ac89-a437-4682-9297-71d9b372d824",
   "metadata": {},
   "outputs": [],
   "source": [
    "sumOfaAndB = a+b"
   ]
  },
  {
   "cell_type": "code",
   "execution_count": 19,
   "id": "cf715372-9f99-4e9f-8627-10675a775435",
   "metadata": {},
   "outputs": [
    {
     "name": "stdout",
     "output_type": "stream",
     "text": [
      "8\n"
     ]
    }
   ],
   "source": [
    "print(sumOfaAndB)"
   ]
  },
  {
   "cell_type": "code",
   "execution_count": 20,
   "id": "aaa86274-4a3c-4b66-9556-b8cd8976a250",
   "metadata": {},
   "outputs": [],
   "source": [
    "v = ((a+d)**3)/4"
   ]
  },
  {
   "cell_type": "code",
   "execution_count": 21,
   "id": "a7af534d-4746-436d-b14e-757acea049e7",
   "metadata": {},
   "outputs": [
    {
     "name": "stdout",
     "output_type": "stream",
     "text": [
      "289.40625\n"
     ]
    }
   ],
   "source": [
    "print(v)"
   ]
  },
  {
   "cell_type": "markdown",
   "id": "b301328a-e42c-4497-b5b7-2a035b69625c",
   "metadata": {},
   "source": [
    "# Comparisons"
   ]
  },
  {
   "cell_type": "code",
   "execution_count": 23,
   "id": "94e52a6f-d195-4686-8c56-069604d2f37a",
   "metadata": {},
   "outputs": [
    {
     "name": "stdout",
     "output_type": "stream",
     "text": [
      "True\n"
     ]
    }
   ],
   "source": [
    "print(5<7)"
   ]
  },
  {
   "cell_type": "code",
   "execution_count": 24,
   "id": "6af7ecbb-a6eb-475b-89cd-a9cddafecd9f",
   "metadata": {},
   "outputs": [
    {
     "data": {
      "text/plain": [
       "True"
      ]
     },
     "execution_count": 24,
     "metadata": {},
     "output_type": "execute_result"
    }
   ],
   "source": [
    "isinstance(2+3j,(int,float,str,complex))"
   ]
  },
  {
   "cell_type": "code",
   "execution_count": 25,
   "id": "aef9d43a-0c42-42fe-9218-195600939fa1",
   "metadata": {},
   "outputs": [
    {
     "data": {
      "text/plain": [
       "16"
      ]
     },
     "execution_count": 25,
     "metadata": {},
     "output_type": "execute_result"
    }
   ],
   "source": [
    "pow(2,4)"
   ]
  },
  {
   "cell_type": "code",
   "execution_count": 26,
   "id": "9d5baee1-39b9-4b1f-9c20-8309586e464e",
   "metadata": {},
   "outputs": [
    {
     "data": {
      "text/plain": [
       "2"
      ]
     },
     "execution_count": 26,
     "metadata": {},
     "output_type": "execute_result"
    }
   ],
   "source": [
    "pow(2,4,7)"
   ]
  },
  {
   "cell_type": "code",
   "execution_count": 27,
   "id": "cdf09e41-f26f-4c54-85b9-6fb1d87f0b81",
   "metadata": {},
   "outputs": [
    {
     "name": "stdin",
     "output_type": "stream",
     "text": [
      " 7\n",
      " 5\n"
     ]
    },
    {
     "name": "stdout",
     "output_type": "stream",
     "text": [
      "7\n",
      "I am still inside if condition\n",
      "I am outside the if condition\n"
     ]
    }
   ],
   "source": [
    "a = int(input())\n",
    "b = int(input())\n",
    "if a>b:\n",
    "    print(a)\n",
    "    print(\"I am still inside if condition\")\n",
    "print(\"I am outside the if condition\")"
   ]
  },
  {
   "cell_type": "code",
   "execution_count": 28,
   "id": "a1bda409-b37e-4f44-8b06-c29fdd7bd5d9",
   "metadata": {},
   "outputs": [
    {
     "name": "stdout",
     "output_type": "stream",
     "text": [
      "Help on method raw_input in module ipykernel.kernelbase:\n",
      "\n",
      "raw_input(prompt='') method of ipykernel.ipkernel.IPythonKernel instance\n",
      "    Forward raw_input to frontends\n",
      "\n",
      "    Raises\n",
      "    ------\n",
      "    StdinNotImplementedError if active frontend doesn't support stdin.\n",
      "\n"
     ]
    }
   ],
   "source": [
    "help(input)"
   ]
  },
  {
   "cell_type": "code",
   "execution_count": 29,
   "id": "1a719bf9-f6e9-4738-af47-49d06037b380",
   "metadata": {},
   "outputs": [
    {
     "name": "stdin",
     "output_type": "stream",
     "text": [
      " 7\n",
      " 25\n"
     ]
    },
    {
     "name": "stdout",
     "output_type": "stream",
     "text": [
      "B is greater than A\n"
     ]
    }
   ],
   "source": [
    "a = int(input())\n",
    "b = int(input())\n",
    "if a>b:\n",
    "    print(a)\n",
    "    print(\"A is greater than B\")\n",
    "else:\n",
    "    print(\"B is greater than A\")"
   ]
  },
  {
   "cell_type": "code",
   "execution_count": 30,
   "id": "e8f88678-95e5-40a4-bac6-50faa08eb9b9",
   "metadata": {},
   "outputs": [
    {
     "name": "stdin",
     "output_type": "stream",
     "text": [
      " 7\n",
      " 7\n"
     ]
    },
    {
     "name": "stdout",
     "output_type": "stream",
     "text": [
      "7\n",
      "A is equal to B\n"
     ]
    }
   ],
   "source": [
    "a = int(input())\n",
    "b = int(input())\n",
    "if a==b:\n",
    "    print(a)\n",
    "    print(\"A is equal to B\")\n",
    "\n",
    "elif a >b:\n",
    "    print(\"A is greater than B\")\n",
    "else:\n",
    "    print(\"B is greater than A\")"
   ]
  },
  {
   "cell_type": "code",
   "execution_count": 31,
   "id": "024d5fd1-4f79-42b8-8af5-48e23028eefa",
   "metadata": {},
   "outputs": [
    {
     "name": "stdin",
     "output_type": "stream",
     "text": [
      "Enter Marks :  85\n"
     ]
    },
    {
     "name": "stdout",
     "output_type": "stream",
     "text": [
      "A Grade\n"
     ]
    }
   ],
   "source": [
    "a = int(input(\"Enter Marks : \"))\n",
    "if a >=85:\n",
    "    print(\"A Grade\")\n",
    "elif (a < 85) and (a >= 80):\n",
    "    print(\"A- Grade\")\n",
    "elif (a < 80) and (a >= 75):\n",
    "    print(\"B Grade\")\n",
    "elif (a < 75) and (a >= 70):\n",
    "    print(\"B- Grade\")\n",
    "else:\n",
    "    print(\"Below Avarage\")\n"
   ]
  },
  {
   "cell_type": "code",
   "execution_count": 32,
   "id": "82706a55-8623-4df1-a895-c20af34a9441",
   "metadata": {},
   "outputs": [
    {
     "name": "stdin",
     "output_type": "stream",
     "text": [
      " 135\n"
     ]
    },
    {
     "name": "stdout",
     "output_type": "stream",
     "text": [
      ">10\n",
      "Inside the top if\n",
      ">20\n",
      "Inside the nested if\n",
      "outside all ifs\n"
     ]
    }
   ],
   "source": [
    "a = int(input())\n",
    "if a>10:\n",
    "    print(\">10\")\n",
    "    print(\"Inside the top if\")\n",
    "    if a>20:\n",
    "        print(\">20\")\n",
    "        print(\"Inside the nested if\")\n",
    "    else:\n",
    "        print(\"<=20\")\n",
    "        print(\"Inside the else part of the nested if\")\n",
    "print(\"outside all ifs\")"
   ]
  },
  {
   "cell_type": "code",
   "execution_count": 33,
   "id": "e411a2a9-651e-4d30-a041-966fd346d5ea",
   "metadata": {},
   "outputs": [
    {
     "name": "stdin",
     "output_type": "stream",
     "text": [
      "Enter a real number : 7\n"
     ]
    },
    {
     "name": "stdout",
     "output_type": "stream",
     "text": [
      "Odd\n"
     ]
    }
   ],
   "source": [
    "# single line comment\n",
    "\n",
    "\"\"\"\n",
    "User will enter a floating number, say 238.915\n",
    "Your task is to find out the integer portion before the point(in this case 238)\n",
    "and then check if that integer portion is an even number or not?\n",
    "\"\"\"\n",
    "\n",
    "x = float(input(\"Enter a real number :\"))\n",
    "y = round(x)\n",
    "if x>0:\n",
    "    if y>x:\n",
    "        intPortion = y-1 # 29.6\n",
    "    else:\n",
    "        intPortion = y\n",
    "else:\n",
    "    if y<x:\n",
    "        intPortion = y+1\n",
    "    else:\n",
    "        intPortion = y\n",
    "\n",
    "if intPortion%2 == 0:\n",
    "    print(\"Even\")\n",
    "else:\n",
    "    print(\"Odd\")"
   ]
  },
  {
   "cell_type": "code",
   "execution_count": 34,
   "id": "37d34800-8ae1-416c-a7f4-eb7a0ba3de96",
   "metadata": {},
   "outputs": [
    {
     "data": {
      "text/plain": [
       "9"
      ]
     },
     "execution_count": 34,
     "metadata": {},
     "output_type": "execute_result"
    }
   ],
   "source": [
    "round(9.3)"
   ]
  },
  {
   "cell_type": "markdown",
   "id": "f31825ac-af2a-4acb-92cb-d60cbe1c9618",
   "metadata": {},
   "source": [
    "# Loops"
   ]
  },
  {
   "cell_type": "code",
   "execution_count": 36,
   "id": "fe484abb-87e1-4aca-b4b4-9412b44a8152",
   "metadata": {},
   "outputs": [
    {
     "name": "stdin",
     "output_type": "stream",
     "text": [
      " 3\n"
     ]
    },
    {
     "name": "stdout",
     "output_type": "stream",
     "text": [
      "1\n",
      "This is iteration number: 1\n",
      "4\n",
      "This is iteration number: 2\n",
      "Loop done\n"
     ]
    }
   ],
   "source": [
    "n = int(input())\n",
    "i = 1\n",
    "while i < n:\n",
    "    print(i**2)\n",
    "    print(\"This is iteration number:\" ,i)\n",
    "    i+=1 #i = i+1\n",
    "print(\"Loop done\")"
   ]
  },
  {
   "cell_type": "code",
   "execution_count": 37,
   "id": "13bebdfa-54e9-442d-9135-99dbaf51ed6c",
   "metadata": {},
   "outputs": [
    {
     "name": "stdout",
     "output_type": "stream",
     "text": [
      "Inside else\n",
      "Inside else\n",
      "Inside else\n",
      "Inside else\n",
      "Inside else\n",
      "Inside else\n",
      "Inside else\n",
      "Inside else\n",
      "Inside if\n",
      "done\n"
     ]
    }
   ],
   "source": [
    "n = 10\n",
    "i = 1\n",
    "while True:\n",
    "    if i%9 ==0:\n",
    "        print(\"Inside if\")\n",
    "        break\n",
    "    else:\n",
    "        print(\"Inside else\")\n",
    "        i = i+1\n",
    "\n",
    "print(\"done\")"
   ]
  },
  {
   "cell_type": "code",
   "execution_count": 38,
   "id": "ba956f91-9723-4185-8247-6585743a1898",
   "metadata": {},
   "outputs": [
    {
     "name": "stdout",
     "output_type": "stream",
     "text": [
      "inside if\n",
      "inside if\n",
      "inside if\n",
      "inside if\n",
      "inside if\n",
      "inside if\n",
      "inside if\n",
      "inside if\n",
      "Something\n",
      "something else\n",
      "done\n"
     ]
    }
   ],
   "source": [
    "n = 10\n",
    "i = 1\n",
    "while True:\n",
    "    if i%9 !=0:\n",
    "        print(\"inside if\")\n",
    "        i +=1\n",
    "        continue\n",
    "    print(\"Something\")\n",
    "    print(\"something else\")\n",
    "    break\n",
    "\n",
    "print(\"done\")"
   ]
  },
  {
   "cell_type": "code",
   "execution_count": 39,
   "id": "7bcc2965-2cc9-41c0-805b-d3f78d25a975",
   "metadata": {},
   "outputs": [
    {
     "name": "stdout",
     "output_type": "stream",
     "text": [
      "0\n",
      "2\n",
      "4\n",
      "6\n",
      "8\n",
      "[0, 4, 16, 36, 64]\n"
     ]
    }
   ],
   "source": [
    "L = []\n",
    "for i in range(0,10,2):\n",
    "    print(i)\n",
    "    L.append(i**2)\n",
    "print(L)"
   ]
  },
  {
   "cell_type": "code",
   "execution_count": 40,
   "id": "3a2b9d0d-675d-4012-b0fd-fe8b613d5a85",
   "metadata": {},
   "outputs": [
    {
     "name": "stdout",
     "output_type": "stream",
     "text": [
      "cherry\n",
      "apple\n",
      "Out side the loop\n"
     ]
    }
   ],
   "source": [
    "S = {\"apple\", 4.9,\"cherry\"}\n",
    "i = 1\n",
    "for x in S:\n",
    "    print(x)\n",
    "    i+=1\n",
    "    if i==3:\n",
    "        break\n",
    "    else:\n",
    "        pass\n",
    "else:\n",
    "    print(\"Loop terminates with success\")\n",
    "print(\"Out side the loop\")"
   ]
  },
  {
   "cell_type": "code",
   "execution_count": 41,
   "id": "c373e00f-1fcc-4a2b-a3b5-50b47e8227f5",
   "metadata": {},
   "outputs": [
    {
     "name": "stdout",
     "output_type": "stream",
     "text": [
      "A 10\n",
      "B -19\n",
      "C abc\n"
     ]
    }
   ],
   "source": [
    "D = {\"A\":10, \"B\":-19, \"C\":\"abc\"}\n",
    "for x in D:\n",
    "    print(x,D[x])"
   ]
  },
  {
   "cell_type": "code",
   "execution_count": 42,
   "id": "d4f971c8-46fc-4ffa-bc9f-3a38340d039f",
   "metadata": {},
   "outputs": [
    {
     "name": "stdout",
     "output_type": "stream",
     "text": [
      "[-5, -3, 1, 2, 4, 7, 9]\n"
     ]
    }
   ],
   "source": [
    "\"\"\"Given a list of numbers i.e. [1,2,4,-5,7,9,-8], make another list that contains all the items\n",
    "in sorted order from min to max. i.e your result will be another list like [-5,1,2,2,3,3,7,9]\n",
    "\"\"\"\n",
    "\n",
    "L = [1,2,4,-5,7,9,-3]\n",
    "for j in range(len(L)):\n",
    "    m = L[j]\n",
    "    idx = j\n",
    "    c = j\n",
    "    for i in range(j,len(L)):\n",
    "        if L[i]<m:\n",
    "            m = L[i]\n",
    "            idx = c\n",
    "        c+=1\n",
    "    tmp = L[j]\n",
    "    L[j] = m\n",
    "    L[idx] = tmp\n",
    "print(L)"
   ]
  },
  {
   "cell_type": "markdown",
   "id": "b5949202-6f9d-4dbd-a357-decda325efc0",
   "metadata": {},
   "source": [
    "# Functions"
   ]
  },
  {
   "cell_type": "code",
   "execution_count": 44,
   "id": "5f5e997f-c7c7-4626-814d-495f036f0763",
   "metadata": {},
   "outputs": [],
   "source": [
    "def printSuccess():\n",
    "    print(\"I'm done\")\n",
    "    print(\"Send me another task\")"
   ]
  },
  {
   "cell_type": "code",
   "execution_count": 45,
   "id": "3fce2bb1-235d-4338-9202-7e2723d60457",
   "metadata": {},
   "outputs": [
    {
     "name": "stdout",
     "output_type": "stream",
     "text": [
      "I'm done\n",
      "Send me another task\n"
     ]
    }
   ],
   "source": [
    "printSuccess()"
   ]
  },
  {
   "cell_type": "code",
   "execution_count": 46,
   "id": "4bccbef8-19d4-4bc0-8504-2e468d395772",
   "metadata": {},
   "outputs": [],
   "source": [
    "def printSuccess2():\n",
    "    \"\"\"This function does nothing except printing a message.\n",
    "    The message is \"hello\"\"\"\n",
    "    print(\"hello\")"
   ]
  },
  {
   "cell_type": "code",
   "execution_count": 47,
   "id": "5a11ac1e-df04-42b8-a0cc-06bded8c2c61",
   "metadata": {},
   "outputs": [
    {
     "data": {
      "text/plain": [
       "\u001b[1;31mSignature:\u001b[0m \u001b[0mprintSuccess2\u001b[0m\u001b[1;33m(\u001b[0m\u001b[1;33m)\u001b[0m\u001b[1;33m\u001b[0m\u001b[1;33m\u001b[0m\u001b[0m\n",
       "\u001b[1;31mSource:\u001b[0m   \n",
       "\u001b[1;32mdef\u001b[0m \u001b[0mprintSuccess2\u001b[0m\u001b[1;33m(\u001b[0m\u001b[1;33m)\u001b[0m\u001b[1;33m:\u001b[0m\u001b[1;33m\n",
       "\u001b[0m    \u001b[1;34m\"\"\"This function does nothing except printing a message.\n",
       "    The message is \"hello\"\"\"\u001b[0m\u001b[1;33m\n",
       "\u001b[0m    \u001b[0mprint\u001b[0m\u001b[1;33m(\u001b[0m\u001b[1;34m\"hello\"\u001b[0m\u001b[1;33m)\u001b[0m\u001b[1;33m\u001b[0m\u001b[1;33m\u001b[0m\u001b[0m\n",
       "\u001b[1;31mFile:\u001b[0m      c:\\users\\neliswa\\appdata\\local\\temp\\ipykernel_15548\\869090539.py\n",
       "\u001b[1;31mType:\u001b[0m      function"
      ]
     },
     "metadata": {},
     "output_type": "display_data"
    }
   ],
   "source": [
    "printSuccess2??"
   ]
  },
  {
   "cell_type": "code",
   "execution_count": 48,
   "id": "652a4a5e-ecca-4aaa-9b88-8544315e48bb",
   "metadata": {},
   "outputs": [],
   "source": [
    "def printMsg(msg):\n",
    "    \"\"\" The function prints the message suppllies by the user \n",
    "    or prints that msg is not in the form of string\"\"\"\n",
    "    \n",
    "    if isinstance(msg,str):\n",
    "        print(msg)\n",
    "    else:\n",
    "        print(\"Your input argument is not a string\")\n",
    "        print(\"Here is the type pf what you have supplied :\",type(msg))"
   ]
  },
  {
   "cell_type": "code",
   "execution_count": 49,
   "id": "db4eddf2-955e-440e-a0ae-0d044bf1638e",
   "metadata": {},
   "outputs": [
    {
     "name": "stdout",
     "output_type": "stream",
     "text": [
      "This is the message\n"
     ]
    }
   ],
   "source": [
    "printMsg(\"This is the message\")"
   ]
  },
  {
   "cell_type": "code",
   "execution_count": 50,
   "id": "50fdac0d-c3b9-4177-af23-4543cd4e9b92",
   "metadata": {},
   "outputs": [],
   "source": [
    "def mypow(a,b):\n",
    "    \"\"\"This function computes power just like the built in pow function\"\"\"\n",
    "    c = a**b\n",
    "    print(c)"
   ]
  },
  {
   "cell_type": "code",
   "execution_count": 51,
   "id": "665dad7c-59fc-451c-a068-80f9785570c4",
   "metadata": {},
   "outputs": [
    {
     "name": "stdout",
     "output_type": "stream",
     "text": [
      "81\n"
     ]
    }
   ],
   "source": [
    "mypow(3,4)"
   ]
  },
  {
   "cell_type": "code",
   "execution_count": 52,
   "id": "afc5cf79-0a03-4ea1-a35d-0bc7feff72d2",
   "metadata": {},
   "outputs": [],
   "source": [
    "def checkArgs(a,b,c):\n",
    "    if isinstance(a,(int,float)) and isinstance(b,(int,float)) and isinstance(c,(int,float)):\n",
    "        print((a+b+c)**2)\n",
    "    else:\n",
    "        print(\"Error: the input arguments are not of the expected types\")"
   ]
  },
  {
   "cell_type": "code",
   "execution_count": 53,
   "id": "4d6f44fd-d38e-4574-a284-d0164cd01129",
   "metadata": {},
   "outputs": [
    {
     "name": "stdout",
     "output_type": "stream",
     "text": [
      "144\n"
     ]
    }
   ],
   "source": [
    "checkArgs(3,4,5)"
   ]
  },
  {
   "cell_type": "code",
   "execution_count": 54,
   "id": "62ee97cb-00f1-47f1-871f-679c304e51f8",
   "metadata": {},
   "outputs": [
    {
     "name": "stdout",
     "output_type": "stream",
     "text": [
      "Error: the input arguments are not of the expected types\n"
     ]
    }
   ],
   "source": [
    "checkArgs(3,4,\"5\")"
   ]
  },
  {
   "cell_type": "code",
   "execution_count": 55,
   "id": "22df0b4e-efee-4191-9b1d-17cfd99121c3",
   "metadata": {},
   "outputs": [],
   "source": [
    "def f(a,b,c):\n",
    "    print(\"A is :\",a)\n",
    "    print(\"B is :\",b)\n",
    "    print(\"C is :\",c)"
   ]
  },
  {
   "cell_type": "code",
   "execution_count": 56,
   "id": "57a107d1-69ce-4375-bb40-7ebc235478d5",
   "metadata": {},
   "outputs": [
    {
     "name": "stdout",
     "output_type": "stream",
     "text": [
      "A is : 2\n",
      "B is : 3\n",
      "C is : game\n"
     ]
    }
   ],
   "source": [
    "f(2,3,\"game\")"
   ]
  },
  {
   "cell_type": "code",
   "execution_count": 57,
   "id": "14d60028-9bc1-430e-bf97-ac6faf6b3f91",
   "metadata": {},
   "outputs": [
    {
     "name": "stdout",
     "output_type": "stream",
     "text": [
      "A is : 7\n",
      "B is : 5\n",
      "C is : 9\n"
     ]
    }
   ],
   "source": [
    "f(a=7, b=5,c=9)"
   ]
  },
  {
   "cell_type": "code",
   "execution_count": 58,
   "id": "53da6862-4764-49af-9d7e-9e2dc30a6379",
   "metadata": {},
   "outputs": [],
   "source": [
    "def myadd(a,b):\n",
    "    sumValue = a+b\n",
    "    return sumValue"
   ]
  },
  {
   "cell_type": "code",
   "execution_count": 59,
   "id": "dce9d6d9-8807-4666-9a31-05110a1de420",
   "metadata": {},
   "outputs": [
    {
     "name": "stdout",
     "output_type": "stream",
     "text": [
      "5\n"
     ]
    }
   ],
   "source": [
    "d = myadd(2,3)\n",
    "print(d)"
   ]
  },
  {
   "cell_type": "code",
   "execution_count": 60,
   "id": "1028a0af-b3cb-4760-bfe6-f4052d864399",
   "metadata": {},
   "outputs": [],
   "source": [
    "variableOutSideTheFunction = 7"
   ]
  },
  {
   "cell_type": "code",
   "execution_count": 61,
   "id": "d24507f9-134a-4292-ab74-dfabfd2f27d7",
   "metadata": {},
   "outputs": [
    {
     "name": "stdout",
     "output_type": "stream",
     "text": [
      "7\n"
     ]
    }
   ],
   "source": [
    "def g():\n",
    "    print(variableOutSideTheFunction)\n",
    "g()"
   ]
  },
  {
   "cell_type": "code",
   "execution_count": 62,
   "id": "e447c98e-773d-4b94-8f56-540487c193fd",
   "metadata": {},
   "outputs": [
    {
     "name": "stdout",
     "output_type": "stream",
     "text": [
      "A\n",
      "Something\n"
     ]
    },
    {
     "data": {
      "text/plain": [
       "8"
      ]
     },
     "execution_count": 62,
     "metadata": {},
     "output_type": "execute_result"
    }
   ],
   "source": [
    "def h():\n",
    "    print(\"A\")\n",
    "    a = 3\n",
    "    b = 5\n",
    "    c = a+b\n",
    "    print(\"Something\")\n",
    "    return c\n",
    "    print(\"B\")\n",
    "    print(\"C\")\n",
    "\n",
    "h()"
   ]
  },
  {
   "cell_type": "code",
   "execution_count": 63,
   "id": "b4033d6e-0914-467e-846f-bab87744c199",
   "metadata": {},
   "outputs": [
    {
     "data": {
      "text/plain": [
       "(5, 7, 'something')"
      ]
     },
     "execution_count": 63,
     "metadata": {},
     "output_type": "execute_result"
    }
   ],
   "source": [
    "def r():\n",
    "    a = 5\n",
    "    b = 7\n",
    "    d = \"something\"\n",
    "    return a,b,d\n",
    "r()"
   ]
  },
  {
   "cell_type": "code",
   "execution_count": 64,
   "id": "e95bd89f-e689-41dc-8591-0a3282f617f8",
   "metadata": {},
   "outputs": [
    {
     "name": "stdout",
     "output_type": "stream",
     "text": [
      "5 7 something\n"
     ]
    }
   ],
   "source": [
    "x,y,z = r()\n",
    "print(x,y,z)"
   ]
  },
  {
   "cell_type": "code",
   "execution_count": 65,
   "id": "eed40893-767f-43ea-a23f-ad222bc0af0b",
   "metadata": {},
   "outputs": [
    {
     "name": "stdout",
     "output_type": "stream",
     "text": [
      "23.6\n"
     ]
    }
   ],
   "source": [
    "def myAddUniversal(*args):\n",
    "    s = 0\n",
    "    for i in range(len(args)):\n",
    "        s += args[i] #s = s+args[i]\n",
    "    return s\n",
    "\n",
    "print(myAddUniversal(2,4,5,5.6,7))"
   ]
  },
  {
   "cell_type": "markdown",
   "id": "e6bbb541-947e-4c36-865c-ad58fa01b88e",
   "metadata": {},
   "source": [
    "# Functions(Variable number of input arguments)"
   ]
  },
  {
   "cell_type": "code",
   "execution_count": 67,
   "id": "478511e2-bcb1-4ace-9d76-6a8e495299b5",
   "metadata": {},
   "outputs": [
    {
     "name": "stdout",
     "output_type": "stream",
     "text": [
      "Variable names is: a and Value is: 3\n",
      "Variable names is: b and Value is: B\n",
      "Variable names is: c and Value is: Nerh\n",
      "Variable names is: y and Value is: V\n"
     ]
    }
   ],
   "source": [
    "def printAllVariablesNamesAndValues(**args):\n",
    "    for x in args:\n",
    "        print(\"Variable names is:\",x, \"and Value is:\", args[x])\n",
    "\n",
    "printAllVariablesNamesAndValues(a=3, b=\"B\",c=\"Nerh\",y=\"V\")"
   ]
  },
  {
   "cell_type": "code",
   "execution_count": 68,
   "id": "cd03e422-db8f-41bc-85d9-c175d18a2ccc",
   "metadata": {},
   "outputs": [],
   "source": [
    "import sys\n",
    "#sys.path.append('C:\\Users\\Neliswa\\Documents\\My Personal Docs\\Data Science\\')\n",
    "#sys.path.append('C:\\Users\\Neliswa\\Documents\\My Personal Docs\\Data Science')\n",
    "sys.path.append('C:/Users/Neliswa/Documents/My Personal Docs/Data Science/myModules/')"
   ]
  },
  {
   "cell_type": "code",
   "execution_count": 69,
   "id": "f6e1266a-3e99-424f-b8e7-d51add282597",
   "metadata": {},
   "outputs": [],
   "source": [
    "import my_universal_functions as myfs"
   ]
  },
  {
   "cell_type": "code",
   "execution_count": 70,
   "id": "49030b03-477a-4e2a-9345-3b97d1053314",
   "metadata": {},
   "outputs": [
    {
     "data": {
      "text/plain": [
       "<module 'my_universal_functions' from 'C:\\\\Users/Neliswa/Documents/My Personal Docs/Data Science/myModules\\\\my_universal_functions.py'>"
      ]
     },
     "execution_count": 70,
     "metadata": {},
     "output_type": "execute_result"
    }
   ],
   "source": [
    "import importlib\n",
    "import my_universal_functions as myfs\n",
    "importlib.reload(myfs)\n"
   ]
  },
  {
   "cell_type": "code",
   "execution_count": 71,
   "id": "82605aa6-7249-4d55-b502-0b263cbc6a6e",
   "metadata": {},
   "outputs": [
    {
     "data": {
      "text/plain": [
       "\u001b[1;31mSignature:\u001b[0m \u001b[0mmyfs\u001b[0m\u001b[1;33m.\u001b[0m\u001b[0maddAllNumerics\u001b[0m\u001b[1;33m(\u001b[0m\u001b[1;33m*\u001b[0m\u001b[0margs\u001b[0m\u001b[1;33m)\u001b[0m\u001b[1;33m\u001b[0m\u001b[1;33m\u001b[0m\u001b[0m\n",
       "\u001b[1;31mDocstring:\u001b[0m <no docstring>\n",
       "\u001b[1;31mSource:\u001b[0m   \n",
       "\u001b[1;32mdef\u001b[0m \u001b[0maddAllNumerics\u001b[0m\u001b[1;33m(\u001b[0m\u001b[1;33m*\u001b[0m\u001b[0margs\u001b[0m\u001b[1;33m)\u001b[0m\u001b[1;33m:\u001b[0m\u001b[1;33m\n",
       "\u001b[0m    \u001b[0ms\u001b[0m \u001b[1;33m=\u001b[0m \u001b[1;36m0\u001b[0m\u001b[1;33m\n",
       "\u001b[0m    \u001b[1;32mfor\u001b[0m \u001b[0mx\u001b[0m \u001b[1;32min\u001b[0m \u001b[0margs\u001b[0m\u001b[1;33m:\u001b[0m\u001b[1;33m\n",
       "\u001b[0m        \u001b[0ms\u001b[0m\u001b[1;33m+=\u001b[0m\u001b[0mx\u001b[0m\u001b[1;33m\n",
       "\u001b[0m    \u001b[1;32mreturn\u001b[0m \u001b[0ms\u001b[0m\u001b[1;33m\u001b[0m\u001b[1;33m\u001b[0m\u001b[0m\n",
       "\u001b[1;31mFile:\u001b[0m      c:\\users\\neliswa\\documents\\my personal docs\\data science\\mymodules\\my_universal_functions.py\n",
       "\u001b[1;31mType:\u001b[0m      function"
      ]
     },
     "metadata": {},
     "output_type": "display_data"
    }
   ],
   "source": [
    "myfs.addAllNumerics??"
   ]
  },
  {
   "cell_type": "code",
   "execution_count": 72,
   "id": "29685a2f-7388-4a6c-8c0f-984007feeb36",
   "metadata": {},
   "outputs": [
    {
     "data": {
      "text/plain": [
       "'Python Course'"
      ]
     },
     "execution_count": 72,
     "metadata": {},
     "output_type": "execute_result"
    }
   ],
   "source": [
    "myfs.myName"
   ]
  },
  {
   "cell_type": "code",
   "execution_count": 137,
   "id": "89ffaaf2-6e96-436f-9e64-e862664d4686",
   "metadata": {},
   "outputs": [
    {
     "data": {
      "text/plain": [
       "'Given a list of numbers i.e. [1,2,4,-5,7,9,-8], make another list that contains all the items\\nin sorted order from min to max. i.e your result will be another list like [-5,1,2,2,3,3,7,9]\\n'"
      ]
     },
     "execution_count": 137,
     "metadata": {},
     "output_type": "execute_result"
    }
   ],
   "source": [
    "\"\"\"Given a list of numbers i.e. [1,2,4,-5,7,9,-8], make another list that contains all the items\n",
    "in sorted order from min to max. i.e your result will be another list like [-5,1,2,2,3,3,7,9]\n",
    "\"\"\""
   ]
  },
  {
   "cell_type": "code",
   "execution_count": 255,
   "id": "b1b660b9-8c39-4d7c-9a84-3d473de57d3c",
   "metadata": {},
   "outputs": [],
   "source": [
    "def findMin(L,startIndx):\n",
    "    m = L[startIndx]\n",
    "    idx = startIndx\n",
    "    for i in range(startIndx,len(L)):\n",
    "        x = L[i]\n",
    "        if x<m:\n",
    "            m = x\n",
    "            idx = i\n",
    "        else:\n",
    "            pass\n",
    "    return m,idx"
   ]
  },
  {
   "cell_type": "code",
   "execution_count": 265,
   "id": "ad6d6f06-a265-4575-87aa-aa020d42fc59",
   "metadata": {},
   "outputs": [],
   "source": [
    "a,b = findMin([2,3,4,0,9],1)"
   ]
  },
  {
   "cell_type": "code",
   "execution_count": 261,
   "id": "c6fdc9ba-d8d6-4a4c-80fe-eb779e115533",
   "metadata": {},
   "outputs": [
    {
     "name": "stdout",
     "output_type": "stream",
     "text": [
      "0 3\n"
     ]
    }
   ],
   "source": [
    "print(a,b)"
   ]
  },
  {
   "cell_type": "code",
   "execution_count": 235,
   "id": "b00beb20-113a-4c3b-a7b2-de173b404ad9",
   "metadata": {},
   "outputs": [],
   "source": [
    "def swapValues(L,idx1,idx2):\n",
    "    tmp = L[idx1]\n",
    "    L[idx1] = L[idx2]\n",
    "    L[idx2] = tmp\n",
    "    return L"
   ]
  },
  {
   "cell_type": "code",
   "execution_count": 267,
   "id": "ef3e20e5-cc77-458c-9610-5b93fd0ae45d",
   "metadata": {},
   "outputs": [
    {
     "name": "stdout",
     "output_type": "stream",
     "text": [
      "[2, 7, 6, 3]\n"
     ]
    }
   ],
   "source": [
    "L = [2,3,6,7]\n",
    "L2 = swapValues(L,1,3)\n",
    "print(L2)"
   ]
  },
  {
   "cell_type": "code",
   "execution_count": 269,
   "id": "c0079cfa-d64c-4b34-a37c-b519d34fa1b2",
   "metadata": {},
   "outputs": [],
   "source": [
    "def checkIfNotNumeric2(L):\n",
    "    for x in L:\n",
    "        if not(isinstance(x,(int,float))):\n",
    "            return False\n",
    "    return True"
   ]
  },
  {
   "cell_type": "code",
   "execution_count": 271,
   "id": "52f97dff-025e-4530-9a6d-a8fa977a3adb",
   "metadata": {},
   "outputs": [
    {
     "name": "stdout",
     "output_type": "stream",
     "text": [
      "True\n"
     ]
    }
   ],
   "source": [
    "print(checkIfNotNumeric2([2,1,5,3,8,17]))"
   ]
  },
  {
   "cell_type": "code",
   "execution_count": 277,
   "id": "01717610-f5fc-4f7b-8626-408293761d6f",
   "metadata": {},
   "outputs": [],
   "source": [
    "from my_universal_functions import checkIfNotNumeric\n",
    "def sortList(L):\n",
    "    if not(checkIfNotNumeric2(L)):\n",
    "        print(\"Error: List doesn't contain numeric values\")\n",
    "        return\n",
    "    else:\n",
    "        c= 0\n",
    "        for x in L:\n",
    "            m,idx = findMin(L,c)\n",
    "            L = swapValues(L,c,idx)\n",
    "            c+1\n",
    "    return L"
   ]
  },
  {
   "cell_type": "code",
   "execution_count": 279,
   "id": "cd623533-44e4-4a86-be10-0ca638db4812",
   "metadata": {},
   "outputs": [
    {
     "name": "stdout",
     "output_type": "stream",
     "text": [
      "[1, 2, 5, 3, 8, 17]\n"
     ]
    }
   ],
   "source": [
    "L2 = sortList([2,1,5,3,8,17])\n",
    "print(L2)"
   ]
  },
  {
   "cell_type": "markdown",
   "id": "12c06217-a72b-4d8c-bdcd-ca602cf8589b",
   "metadata": {},
   "source": [
    "# Strings"
   ]
  },
  {
   "cell_type": "code",
   "execution_count": 281,
   "id": "8a86da98-4a44-4a2d-b195-8fef6b0bf96b",
   "metadata": {},
   "outputs": [
    {
     "name": "stdout",
     "output_type": "stream",
     "text": [
      "r\n"
     ]
    }
   ],
   "source": [
    "s = \"How are you and who are you\"\n",
    "print(s[5])"
   ]
  },
  {
   "cell_type": "code",
   "execution_count": 287,
   "id": "9a224310-94aa-43e2-bbbf-107e9f2a9c3e",
   "metadata": {},
   "outputs": [
    {
     "data": {
      "text/plain": [
       "str"
      ]
     },
     "execution_count": 287,
     "metadata": {},
     "output_type": "execute_result"
    }
   ],
   "source": [
    "type(s[4])"
   ]
  },
  {
   "cell_type": "code",
   "execution_count": 289,
   "id": "bcb79fc8-251c-4968-b8af-52e4c4e561a7",
   "metadata": {},
   "outputs": [
    {
     "data": {
      "text/plain": [
       "'How are yo'"
      ]
     },
     "execution_count": 289,
     "metadata": {},
     "output_type": "execute_result"
    }
   ],
   "source": [
    "s[0:10]"
   ]
  },
  {
   "cell_type": "code",
   "execution_count": 291,
   "id": "60d54f06-0168-4ee8-8969-cf0c210abeec",
   "metadata": {},
   "outputs": [
    {
     "data": {
      "text/plain": [
       "'y'"
      ]
     },
     "execution_count": 291,
     "metadata": {},
     "output_type": "execute_result"
    }
   ],
   "source": [
    "s[-3]"
   ]
  },
  {
   "cell_type": "code",
   "execution_count": 293,
   "id": "cdbf96b1-1ce2-482f-b273-70d5a97abad0",
   "metadata": {},
   "outputs": [
    {
     "data": {
      "text/plain": [
       "' who are '"
      ]
     },
     "execution_count": 293,
     "metadata": {},
     "output_type": "execute_result"
    }
   ],
   "source": [
    "s[-12:-3]"
   ]
  },
  {
   "cell_type": "code",
   "execution_count": 298,
   "id": "af00f5c8-9da4-4172-b3b6-9774719613b1",
   "metadata": {},
   "outputs": [
    {
     "data": {
      "text/plain": [
       "'uoy era ohw dna uoy era woH'"
      ]
     },
     "execution_count": 298,
     "metadata": {},
     "output_type": "execute_result"
    }
   ],
   "source": [
    "s[::-1]"
   ]
  },
  {
   "cell_type": "code",
   "execution_count": 310,
   "id": "c13610b6-9f9c-4c21-8c5b-5be42a099fb0",
   "metadata": {},
   "outputs": [
    {
     "name": "stdout",
     "output_type": "stream",
     "text": [
      "     abc  def  hgq ;; asdfaf\n"
     ]
    }
   ],
   "source": [
    "a = \"     abc  def  hgq ;; asdFAf\"\n",
    "b = a.lower()\n",
    "print(b)"
   ]
  },
  {
   "cell_type": "code",
   "execution_count": 312,
   "id": "f07bbda0-f17b-4740-9a83-7bc5285b4b61",
   "metadata": {},
   "outputs": [
    {
     "name": "stdout",
     "output_type": "stream",
     "text": [
      "     ABC  DEF  HGQ ;; ASDFAF\n"
     ]
    }
   ],
   "source": [
    "c = a.upper()\n",
    "print(c)"
   ]
  },
  {
   "cell_type": "code",
   "execution_count": 314,
   "id": "d64b1d77-28a7-4535-b680-159dc2ce129b",
   "metadata": {},
   "outputs": [
    {
     "name": "stdout",
     "output_type": "stream",
     "text": [
      "     abc  def  hgq ** asdFAf\n"
     ]
    }
   ],
   "source": [
    "d = a.replace(\";\" , \"*\")\n",
    "print(d)"
   ]
  },
  {
   "cell_type": "code",
   "execution_count": 318,
   "id": "6d1edfc5-7631-497e-becb-7b40e3515d77",
   "metadata": {},
   "outputs": [
    {
     "data": {
      "text/plain": [
       "True"
      ]
     },
     "execution_count": 318,
     "metadata": {},
     "output_type": "execute_result"
    }
   ],
   "source": [
    "\"abc\" in \"ajnjdnjnvshhdsicabc\""
   ]
  },
  {
   "cell_type": "code",
   "execution_count": 332,
   "id": "e8a0dc40-5a5d-49a1-98c1-7cdf029cef48",
   "metadata": {},
   "outputs": [
    {
     "data": {
      "text/plain": [
       "True"
      ]
     },
     "execution_count": 332,
     "metadata": {},
     "output_type": "execute_result"
    }
   ],
   "source": [
    "\"abcszy\" < \"def\""
   ]
  },
  {
   "cell_type": "code",
   "execution_count": 334,
   "id": "08b8a8dc-97d3-4e12-9661-d8f5857e2c46",
   "metadata": {},
   "outputs": [
    {
     "name": "stdout",
     "output_type": "stream",
     "text": [
      " we are learning \"string\" here\n",
      " we are learning \"string\" here\n"
     ]
    }
   ],
   "source": [
    "print(\" we are learning \\\"string\\\" here\")\n",
    "print(' we are learning \"string\" here')"
   ]
  },
  {
   "cell_type": "code",
   "execution_count": 338,
   "id": "48a7a33b-6a14-4df1-940a-510b5490cb92",
   "metadata": {},
   "outputs": [
    {
     "name": "stdout",
     "output_type": "stream",
     "text": [
      "c:\n",
      "name\n",
      "drive\n"
     ]
    }
   ],
   "source": [
    "print(\"c:\\nname\\ndrive\")"
   ]
  },
  {
   "cell_type": "markdown",
   "id": "44a5247f-79e3-4e7c-9c83-5f979bad823a",
   "metadata": {},
   "source": [
    "# Data Structures"
   ]
  },
  {
   "cell_type": "code",
   "execution_count": 345,
   "id": "31ec8742-c200-4b0c-9fbc-735e20b2acda",
   "metadata": {},
   "outputs": [],
   "source": [
    "L = [1,3,4.9, \"name\",3]\n",
    "T = (1,3,4.9, \"name\",3)\n",
    "S = {1,3,4.9, \"name\",3}\n",
    "D = {13:\"bts\", 4.9:\"name\"}"
   ]
  },
  {
   "cell_type": "code",
   "execution_count": 351,
   "id": "3f9939d8-3cb2-4cf2-8e3a-1899e6c1b67c",
   "metadata": {},
   "outputs": [
    {
     "name": "stdout",
     "output_type": "stream",
     "text": [
      "The type of L is <class 'list'>\n",
      "The type of T is <class 'tuple'>\n",
      "The type of S is <class 'set'>\n",
      "The type of D is <class 'dict'>\n"
     ]
    }
   ],
   "source": [
    "print(\"The type of L is\",type(L))\n",
    "print(\"The type of T is\",type(T))\n",
    "print(\"The type of S is\",type(S))\n",
    "print(\"The type of D is\",type(D))"
   ]
  },
  {
   "cell_type": "code",
   "execution_count": 359,
   "id": "16510065-2877-4f56-bdde-f85f935084b1",
   "metadata": {},
   "outputs": [
    {
     "data": {
      "text/plain": [
       "[3, 4.9]"
      ]
     },
     "execution_count": 359,
     "metadata": {},
     "output_type": "execute_result"
    }
   ],
   "source": [
    "L[1:3] #Last value is not added"
   ]
  },
  {
   "cell_type": "code",
   "execution_count": 361,
   "id": "bac9153c-e5e6-4cd4-9a1a-f93ecdc664f5",
   "metadata": {},
   "outputs": [],
   "source": [
    "L = L + [\"how\",\"are\",6,\"you\"]"
   ]
  },
  {
   "cell_type": "code",
   "execution_count": 363,
   "id": "315324b5-85d8-42d3-960e-56f29658ccc2",
   "metadata": {},
   "outputs": [
    {
     "data": {
      "text/plain": [
       "[1, 3, 4.9, 'name', 3, 'how', 'are', 6, 'you']"
      ]
     },
     "execution_count": 363,
     "metadata": {},
     "output_type": "execute_result"
    }
   ],
   "source": [
    "L"
   ]
  },
  {
   "cell_type": "code",
   "execution_count": 369,
   "id": "7cce3f24-4941-470b-a433-fc791115b833",
   "metadata": {},
   "outputs": [
    {
     "data": {
      "text/plain": [
       "[1, 3, 4.9, 'name', 3, 'how', 'are', 6, 'you', 7, 7]"
      ]
     },
     "execution_count": 369,
     "metadata": {},
     "output_type": "execute_result"
    }
   ],
   "source": [
    "L.append(7)\n",
    "L"
   ]
  },
  {
   "cell_type": "code",
   "execution_count": 375,
   "id": "4c6edfb9-077e-45bb-a91c-86fa636fe36b",
   "metadata": {},
   "outputs": [
    {
     "data": {
      "text/plain": [
       "(1, 3, 4.9, 'name', 3, 'a', 'b', 25)"
      ]
     },
     "execution_count": 375,
     "metadata": {},
     "output_type": "execute_result"
    }
   ],
   "source": [
    "T2 = ('a', 'b',25)\n",
    "T3 = T + T2\n",
    "T3"
   ]
  },
  {
   "cell_type": "code",
   "execution_count": 383,
   "id": "a2d23b80-1b87-455a-ab42-1f6373b7355d",
   "metadata": {},
   "outputs": [
    {
     "data": {
      "text/plain": [
       "{1, 3, 4.9, 'V', 'name'}"
      ]
     },
     "execution_count": 383,
     "metadata": {},
     "output_type": "execute_result"
    }
   ],
   "source": [
    "S.add(\"V\")\n",
    "S"
   ]
  },
  {
   "cell_type": "code",
   "execution_count": 389,
   "id": "ae5deac8-de5e-4efc-ba75-e0405bd34e72",
   "metadata": {},
   "outputs": [
    {
     "data": {
      "text/plain": [
       "{13: 'bts', 4.9: 'name', 'newkey': 'newValue'}"
      ]
     },
     "execution_count": 389,
     "metadata": {},
     "output_type": "execute_result"
    }
   ],
   "source": [
    "D['newkey'] = \"newValue\"\n",
    "D"
   ]
  },
  {
   "cell_type": "code",
   "execution_count": 393,
   "id": "41915722-f1c3-472e-9186-db0485351717",
   "metadata": {},
   "outputs": [
    {
     "data": {
      "text/plain": [
       "{13: 'bts', 4.9: 'name', 'newkey': 'newValue', 'V': 'Nerh'}"
      ]
     },
     "execution_count": 393,
     "metadata": {},
     "output_type": "execute_result"
    }
   ],
   "source": [
    "D['V'] = \"Nerh\"\n",
    "D"
   ]
  },
  {
   "cell_type": "code",
   "execution_count": 397,
   "id": "c23b2781-b37d-4935-96a5-7910d8f5c277",
   "metadata": {},
   "outputs": [
    {
     "data": {
      "text/plain": [
       "{'y': 'YY', 'z': 10}"
      ]
     },
     "execution_count": 397,
     "metadata": {},
     "output_type": "execute_result"
    }
   ],
   "source": [
    "D2 = {\"y\":\"YY\", \"z\":10}\n",
    "D2"
   ]
  },
  {
   "cell_type": "code",
   "execution_count": 409,
   "id": "8e0a07f8-3dd1-467a-911c-ca31ced52645",
   "metadata": {},
   "outputs": [
    {
     "data": {
      "text/plain": [
       "{'y': 'YY'}"
      ]
     },
     "execution_count": 409,
     "metadata": {},
     "output_type": "execute_result"
    }
   ],
   "source": [
    "del D2[\"z\"]\n",
    "D2"
   ]
  },
  {
   "cell_type": "code",
   "execution_count": 411,
   "id": "88f9609f-585e-4af8-b0e2-cf0f54a73b28",
   "metadata": {},
   "outputs": [
    {
     "data": {
      "text/plain": [
       "[1, 3, 4.9, 'name', 3, 'how', 'are', 6, 'you', 7, 7]"
      ]
     },
     "execution_count": 411,
     "metadata": {},
     "output_type": "execute_result"
    }
   ],
   "source": [
    "L2 = L"
   ]
  },
  {
   "cell_type": "code",
   "execution_count": 475,
   "id": "94a72eb0-09b5-4d6a-b8c6-dabe639cf251",
   "metadata": {},
   "outputs": [],
   "source": [
    "\"\"\"Let's say you are a teacher and you have different student records \n",
    "containing ID of a student and marks list in each subject where different students have taken\n",
    "different number of subjects. All these records are in hard copy. You want to enter all the\n",
    "data in computer and want to compute the average marks of each student and display\"\"\"\n",
    "\n",
    "def getDataFromUser():\n",
    "    D = {}\n",
    "    while True:\n",
    "        studentID = input(\"Enter student ID: \")\n",
    "        markList = input(\"Enter the marks entered by comma separated values: \")\n",
    "        moreStudents = input(\"Enter \\\"no\\\" to quit insertion: \")\n",
    "        if studentID in D:\n",
    "            print(studentID, \"is already inserted\")\n",
    "        else:\n",
    "            D[studentID] = markList.split(\",\")\n",
    "        if moreStudents.lower() == \"no\":\n",
    "            return D"
   ]
  },
  {
   "cell_type": "code",
   "execution_count": 477,
   "id": "9ee3de35-4187-4956-a998-dae184189d59",
   "metadata": {},
   "outputs": [
    {
     "name": "stdin",
     "output_type": "stream",
     "text": [
      "Enter student ID:  454\n",
      "Enter the marks entered by comma separated values:  45\n",
      "Enter \"no\" to quit insertion:  l\n",
      "Enter student ID:  656\n",
      "Enter the marks entered by comma separated values:  89\n",
      "Enter \"no\" to quit insertion:  '4\\\n",
      "Enter student ID:  898\n",
      "Enter the marks entered by comma separated values:  89\n",
      "Enter \"no\" to quit insertion:  no\n"
     ]
    }
   ],
   "source": [
    "studentData = getDataFromUser()"
   ]
  },
  {
   "cell_type": "code",
   "execution_count": 479,
   "id": "230fc1ec-78b1-4d8e-aee0-382f6b4a6136",
   "metadata": {},
   "outputs": [
    {
     "data": {
      "text/plain": [
       "{'454': ['45'], '656': ['89'], '898': ['89']}"
      ]
     },
     "execution_count": 479,
     "metadata": {},
     "output_type": "execute_result"
    }
   ],
   "source": [
    "studentData"
   ]
  },
  {
   "cell_type": "code",
   "execution_count": 481,
   "id": "22a5fb34-367d-4533-8262-656b92df9e09",
   "metadata": {},
   "outputs": [],
   "source": [
    "def getAvgMarks(D):\n",
    "    avgMarks = {}\n",
    "    for x in D:\n",
    "        L = D[x]\n",
    "        s = 0\n",
    "        for marks in L:\n",
    "            s += int(marks)\n",
    "        avgMarks[x] = s/len(L)\n",
    "    return avgMarks"
   ]
  },
  {
   "cell_type": "code",
   "execution_count": 491,
   "id": "3d7996ed-8532-4d58-8754-ef73907594d7",
   "metadata": {},
   "outputs": [
    {
     "data": {
      "text/plain": [
       "{'454': 45.0, '656': 89.0, '898': 89.0}"
      ]
     },
     "execution_count": 491,
     "metadata": {},
     "output_type": "execute_result"
    }
   ],
   "source": [
    "avgM = getAvgMarks(studentData)\n",
    "avgM"
   ]
  },
  {
   "cell_type": "code",
   "execution_count": 493,
   "id": "5c2d60c6-a4b0-4d58-8984-0154024d0d3b",
   "metadata": {},
   "outputs": [
    {
     "name": "stdout",
     "output_type": "stream",
     "text": [
      "Student:  454 got avg Marks of:  45.0\n",
      "Student:  656 got avg Marks of:  89.0\n",
      "Student:  898 got avg Marks of:  89.0\n"
     ]
    }
   ],
   "source": [
    "for x in avgM:\n",
    "    print(\"Student: \",x,\"got avg Marks of: \",avgM[x])"
   ]
  },
  {
   "cell_type": "code",
   "execution_count": null,
   "id": "92d6a04f-2d59-4ed9-8644-9fdf4c49fdf9",
   "metadata": {},
   "outputs": [],
   "source": []
  }
 ],
 "metadata": {
  "kernelspec": {
   "display_name": "Python 3 (ipykernel)",
   "language": "python",
   "name": "python3"
  },
  "language_info": {
   "codemirror_mode": {
    "name": "ipython",
    "version": 3
   },
   "file_extension": ".py",
   "mimetype": "text/x-python",
   "name": "python",
   "nbconvert_exporter": "python",
   "pygments_lexer": "ipython3",
   "version": "3.12.4"
  }
 },
 "nbformat": 4,
 "nbformat_minor": 5
}
