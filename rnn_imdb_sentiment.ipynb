{
 "cells": [
  {
   "cell_type": "markdown",
   "id": "44c90159-b2f5-4cc1-a416-12afc225f28c",
   "metadata": {},
   "source": [
    "# 🎬 IMDB Sentiment Analysis with RNN (LSTM)"
   ]
  },
  {
   "cell_type": "markdown",
   "id": "fcc60146-8b01-447d-b45e-7fcb419e7050",
   "metadata": {},
   "source": [
    "This notebook demonstrates how to build and train a **Recurrent Neural Network (RNN)** using **LSTM layers** for sentiment classification on the **IMDB dataset**."
   ]
  },
  {
   "cell_type": "markdown",
   "id": "385850ae-f725-4736-b2ed-2a776b372567",
   "metadata": {},
   "source": [
    "## 📌 1. Introduction\n",
    "The IMDB dataset contains **25,000 movie reviews** labeled as either **positive** or **negative**. Our task is to build a model that can predict the sentiment of a review.\n",
    "\n",
    "We will:\n",
    "- Preprocess text data (convert words → tokens → padded sequences).\n",
    "- Build an **Embedding + LSTM** model.\n",
    "- Train the model on 20,000 reviews, validate on 5,000 reviews.\n",
    "- Evaluate performance on a test set.\n",
    "- Visualize training curves (accuracy and loss).\n"
   ]
  },
  {
   "cell_type": "markdown",
   "id": "ff922781-2bb7-489d-81a6-f2c0f5275fec",
   "metadata": {},
   "source": [
    "# Imports"
   ]
  },
  {
   "cell_type": "code",
   "execution_count": 1,
   "id": "ff2a7f67-392a-4b84-a386-252bf1725951",
   "metadata": {},
   "outputs": [],
   "source": [
    "import tensorflow as tf\n",
    "from tensorflow.keras.datasets import imdb\n",
    "from tensorflow.keras.preprocessing import sequence\n",
    "from tensorflow.keras.models import Sequential\n",
    "from tensorflow.keras.layers import Embedding, LSTM, Dense, Dropout\n",
    "import matplotlib.pyplot as plt"
   ]
  },
  {
   "cell_type": "markdown",
   "id": "c17831a6-019f-420d-95a3-55387aac35d2",
   "metadata": {},
   "source": [
    "## 📌 2. Load and Preprocess Data\n",
    "We restrict the vocabulary to the **10,000 most frequent words** and truncate/pad reviews to a fixed length (200 words)."
   ]
  },
  {
   "cell_type": "code",
   "execution_count": 2,
   "id": "33019412-bb7e-45d3-9362-5e83280daf4f",
   "metadata": {},
   "outputs": [],
   "source": [
    "max_features = 10000  # Vocabulary size\n",
    "maxlen = 200          # Max sequence length"
   ]
  },
  {
   "cell_type": "code",
   "execution_count": 3,
   "id": "b7462d59-8f19-405b-96c6-156929692a3f",
   "metadata": {},
   "outputs": [
    {
     "name": "stdout",
     "output_type": "stream",
     "text": [
      "Loading IMDB dataset...\n",
      "Downloading data from https://storage.googleapis.com/tensorflow/tf-keras-datasets/imdb.npz\n",
      "\u001b[1m17464789/17464789\u001b[0m \u001b[32m━━━━━━━━━━━━━━━━━━━━\u001b[0m\u001b[37m\u001b[0m \u001b[1m226s\u001b[0m 13us/step\n"
     ]
    }
   ],
   "source": [
    "print(\"Loading IMDB dataset...\")\n",
    "(x_train, y_train), (x_test, y_test) = imdb.load_data(num_words=max_features)"
   ]
  },
  {
   "cell_type": "code",
   "execution_count": 4,
   "id": "bb82976f-140b-4187-80f5-cbebb8e89272",
   "metadata": {},
   "outputs": [
    {
     "name": "stdout",
     "output_type": "stream",
     "text": [
      "25000 train sequences\n",
      "25000 test sequences\n"
     ]
    }
   ],
   "source": [
    "print(len(x_train), \"train sequences\")\n",
    "print(len(x_test), \"test sequences\")"
   ]
  },
  {
   "cell_type": "markdown",
   "id": "a3921228-e517-4a36-b818-6ff1a158da84",
   "metadata": {},
   "source": [
    "# Pad sequences to equal length"
   ]
  },
  {
   "cell_type": "code",
   "execution_count": 5,
   "id": "9c7f954f-db66-46db-9581-3504c8af95fd",
   "metadata": {},
   "outputs": [],
   "source": [
    "x_train = sequence.pad_sequences(x_train, maxlen=maxlen)\n",
    "x_test = sequence.pad_sequences(x_test, maxlen=maxlen)"
   ]
  },
  {
   "cell_type": "code",
   "execution_count": 6,
   "id": "79d1292a-9105-41cf-91b9-d0db8b0de597",
   "metadata": {},
   "outputs": [
    {
     "name": "stdout",
     "output_type": "stream",
     "text": [
      "x_train shape: (25000, 200)\n",
      "x_test shape: (25000, 200)\n"
     ]
    }
   ],
   "source": [
    "print(\"x_train shape:\", x_train.shape)\n",
    "print(\"x_test shape:\", x_test.shape)"
   ]
  },
  {
   "cell_type": "markdown",
   "id": "b1520fb3-b661-475e-862a-51f664af5ca4",
   "metadata": {},
   "source": [
    "## 📌 3. Build RNN Model (LSTM)\n",
    "We use:\n",
    "- **Embedding layer**: to convert tokens into dense vectors.\n",
    "- **LSTM layer**: to capture sequential dependencies in reviews.\n",
    "- **Dense output layer**: with **sigmoid** activation for binary classification."
   ]
  },
  {
   "cell_type": "code",
   "execution_count": 7,
   "id": "df6d1505-bfff-4cdf-b04f-b686c11f0d2e",
   "metadata": {},
   "outputs": [],
   "source": [
    "model = Sequential()\n",
    "model.add(Embedding(max_features, 128))       # Embedding layer\n",
    "model.add(LSTM(128, dropout=0.2, recurrent_dropout=0.2))\n",
    "model.add(Dense(1, activation='sigmoid'))     # Output layer"
   ]
  },
  {
   "cell_type": "code",
   "execution_count": null,
   "id": "f80179d8-5372-4666-8155-9ce8a623ce48",
   "metadata": {},
   "outputs": [],
   "source": [
    "## Compile model"
   ]
  },
  {
   "cell_type": "code",
   "execution_count": 8,
   "id": "0878a33d-ff4f-46b0-9878-db06f560c5dd",
   "metadata": {},
   "outputs": [],
   "source": [
    "model.compile(loss='binary_crossentropy',\n",
    "              optimizer='adam',\n",
    "              metrics=['accuracy'])\n"
   ]
  },
  {
   "cell_type": "code",
   "execution_count": 9,
   "id": "d654d5bc-64f9-4860-a0be-fedf43d0f65f",
   "metadata": {},
   "outputs": [
    {
     "data": {
      "text/html": [
       "<pre style=\"white-space:pre;overflow-x:auto;line-height:normal;font-family:Menlo,'DejaVu Sans Mono',consolas,'Courier New',monospace\"><span style=\"font-weight: bold\">Model: \"sequential\"</span>\n",
       "</pre>\n"
      ],
      "text/plain": [
       "\u001b[1mModel: \"sequential\"\u001b[0m\n"
      ]
     },
     "metadata": {},
     "output_type": "display_data"
    },
    {
     "data": {
      "text/html": [
       "<pre style=\"white-space:pre;overflow-x:auto;line-height:normal;font-family:Menlo,'DejaVu Sans Mono',consolas,'Courier New',monospace\">┏━━━━━━━━━━━━━━━━━━━━━━━━━━━━━━━━━━━━━━┳━━━━━━━━━━━━━━━━━━━━━━━━━━━━━┳━━━━━━━━━━━━━━━━━┓\n",
       "┃<span style=\"font-weight: bold\"> Layer (type)                         </span>┃<span style=\"font-weight: bold\"> Output Shape                </span>┃<span style=\"font-weight: bold\">         Param # </span>┃\n",
       "┡━━━━━━━━━━━━━━━━━━━━━━━━━━━━━━━━━━━━━━╇━━━━━━━━━━━━━━━━━━━━━━━━━━━━━╇━━━━━━━━━━━━━━━━━┩\n",
       "│ embedding (<span style=\"color: #0087ff; text-decoration-color: #0087ff\">Embedding</span>)                │ ?                           │     <span style=\"color: #00af00; text-decoration-color: #00af00\">0</span> (unbuilt) │\n",
       "├──────────────────────────────────────┼─────────────────────────────┼─────────────────┤\n",
       "│ lstm (<span style=\"color: #0087ff; text-decoration-color: #0087ff\">LSTM</span>)                          │ ?                           │     <span style=\"color: #00af00; text-decoration-color: #00af00\">0</span> (unbuilt) │\n",
       "├──────────────────────────────────────┼─────────────────────────────┼─────────────────┤\n",
       "│ dense (<span style=\"color: #0087ff; text-decoration-color: #0087ff\">Dense</span>)                        │ ?                           │     <span style=\"color: #00af00; text-decoration-color: #00af00\">0</span> (unbuilt) │\n",
       "└──────────────────────────────────────┴─────────────────────────────┴─────────────────┘\n",
       "</pre>\n"
      ],
      "text/plain": [
       "┏━━━━━━━━━━━━━━━━━━━━━━━━━━━━━━━━━━━━━━┳━━━━━━━━━━━━━━━━━━━━━━━━━━━━━┳━━━━━━━━━━━━━━━━━┓\n",
       "┃\u001b[1m \u001b[0m\u001b[1mLayer (type)                        \u001b[0m\u001b[1m \u001b[0m┃\u001b[1m \u001b[0m\u001b[1mOutput Shape               \u001b[0m\u001b[1m \u001b[0m┃\u001b[1m \u001b[0m\u001b[1m        Param #\u001b[0m\u001b[1m \u001b[0m┃\n",
       "┡━━━━━━━━━━━━━━━━━━━━━━━━━━━━━━━━━━━━━━╇━━━━━━━━━━━━━━━━━━━━━━━━━━━━━╇━━━━━━━━━━━━━━━━━┩\n",
       "│ embedding (\u001b[38;5;33mEmbedding\u001b[0m)                │ ?                           │     \u001b[38;5;34m0\u001b[0m (unbuilt) │\n",
       "├──────────────────────────────────────┼─────────────────────────────┼─────────────────┤\n",
       "│ lstm (\u001b[38;5;33mLSTM\u001b[0m)                          │ ?                           │     \u001b[38;5;34m0\u001b[0m (unbuilt) │\n",
       "├──────────────────────────────────────┼─────────────────────────────┼─────────────────┤\n",
       "│ dense (\u001b[38;5;33mDense\u001b[0m)                        │ ?                           │     \u001b[38;5;34m0\u001b[0m (unbuilt) │\n",
       "└──────────────────────────────────────┴─────────────────────────────┴─────────────────┘\n"
      ]
     },
     "metadata": {},
     "output_type": "display_data"
    },
    {
     "data": {
      "text/html": [
       "<pre style=\"white-space:pre;overflow-x:auto;line-height:normal;font-family:Menlo,'DejaVu Sans Mono',consolas,'Courier New',monospace\"><span style=\"font-weight: bold\"> Total params: </span><span style=\"color: #00af00; text-decoration-color: #00af00\">0</span> (0.00 B)\n",
       "</pre>\n"
      ],
      "text/plain": [
       "\u001b[1m Total params: \u001b[0m\u001b[38;5;34m0\u001b[0m (0.00 B)\n"
      ]
     },
     "metadata": {},
     "output_type": "display_data"
    },
    {
     "data": {
      "text/html": [
       "<pre style=\"white-space:pre;overflow-x:auto;line-height:normal;font-family:Menlo,'DejaVu Sans Mono',consolas,'Courier New',monospace\"><span style=\"font-weight: bold\"> Trainable params: </span><span style=\"color: #00af00; text-decoration-color: #00af00\">0</span> (0.00 B)\n",
       "</pre>\n"
      ],
      "text/plain": [
       "\u001b[1m Trainable params: \u001b[0m\u001b[38;5;34m0\u001b[0m (0.00 B)\n"
      ]
     },
     "metadata": {},
     "output_type": "display_data"
    },
    {
     "data": {
      "text/html": [
       "<pre style=\"white-space:pre;overflow-x:auto;line-height:normal;font-family:Menlo,'DejaVu Sans Mono',consolas,'Courier New',monospace\"><span style=\"font-weight: bold\"> Non-trainable params: </span><span style=\"color: #00af00; text-decoration-color: #00af00\">0</span> (0.00 B)\n",
       "</pre>\n"
      ],
      "text/plain": [
       "\u001b[1m Non-trainable params: \u001b[0m\u001b[38;5;34m0\u001b[0m (0.00 B)\n"
      ]
     },
     "metadata": {},
     "output_type": "display_data"
    },
    {
     "name": "stdout",
     "output_type": "stream",
     "text": [
      "None\n"
     ]
    }
   ],
   "source": [
    "print(model.summary())"
   ]
  },
  {
   "cell_type": "markdown",
   "id": "e21cfc8c-8523-4038-99a9-917bade259c0",
   "metadata": {},
   "source": [
    "## 📌 4. Train Model\n",
    "We train the model for **5 epochs** with a batch size of **64**."
   ]
  },
  {
   "cell_type": "code",
   "execution_count": 10,
   "id": "2d2e7c57-7bcf-41ca-9951-7080bd3cfce0",
   "metadata": {},
   "outputs": [
    {
     "name": "stdout",
     "output_type": "stream",
     "text": [
      "Epoch 1/5\n",
      "\u001b[1m391/391\u001b[0m \u001b[32m━━━━━━━━━━━━━━━━━━━━\u001b[0m\u001b[37m\u001b[0m \u001b[1m125s\u001b[0m 313ms/step - accuracy: 0.6938 - loss: 0.5668 - val_accuracy: 0.8158 - val_loss: 0.4170\n",
      "Epoch 2/5\n",
      "\u001b[1m391/391\u001b[0m \u001b[32m━━━━━━━━━━━━━━━━━━━━\u001b[0m\u001b[37m\u001b[0m \u001b[1m130s\u001b[0m 332ms/step - accuracy: 0.8520 - loss: 0.3537 - val_accuracy: 0.8471 - val_loss: 0.3593\n",
      "Epoch 3/5\n",
      "\u001b[1m391/391\u001b[0m \u001b[32m━━━━━━━━━━━━━━━━━━━━\u001b[0m\u001b[37m\u001b[0m \u001b[1m116s\u001b[0m 296ms/step - accuracy: 0.8793 - loss: 0.2975 - val_accuracy: 0.8433 - val_loss: 0.3751\n",
      "Epoch 4/5\n",
      "\u001b[1m391/391\u001b[0m \u001b[32m━━━━━━━━━━━━━━━━━━━━\u001b[0m\u001b[37m\u001b[0m \u001b[1m115s\u001b[0m 295ms/step - accuracy: 0.9031 - loss: 0.2531 - val_accuracy: 0.8548 - val_loss: 0.3901\n",
      "Epoch 5/5\n",
      "\u001b[1m391/391\u001b[0m \u001b[32m━━━━━━━━━━━━━━━━━━━━\u001b[0m\u001b[37m\u001b[0m \u001b[1m108s\u001b[0m 277ms/step - accuracy: 0.9254 - loss: 0.1989 - val_accuracy: 0.8366 - val_loss: 0.3885\n"
     ]
    }
   ],
   "source": [
    "batch_size = 64\n",
    "epochs = 5\n",
    "\n",
    "history = model.fit(\n",
    "    x_train, y_train,\n",
    "    batch_size=batch_size,\n",
    "    epochs=epochs,\n",
    "    validation_data=(x_test, y_test)\n",
    ")"
   ]
  },
  {
   "cell_type": "markdown",
   "id": "67e8d459-8308-43fe-b0f7-4a320d50c5e4",
   "metadata": {},
   "source": [
    "## 📌 5. Evaluate Model\n",
    "We check test accuracy after training."
   ]
  },
  {
   "cell_type": "code",
   "execution_count": 12,
   "id": "8fc12213-dcd9-4892-a3c9-9e047687f7aa",
   "metadata": {},
   "outputs": [
    {
     "name": "stdout",
     "output_type": "stream",
     "text": [
      "\u001b[1m391/391\u001b[0m \u001b[32m━━━━━━━━━━━━━━━━━━━━\u001b[0m\u001b[37m\u001b[0m \u001b[1m22s\u001b[0m 57ms/step - accuracy: 0.8342 - loss: 0.3955\n",
      "Test score: 0.38847750425338745\n",
      "Test accuracy: 0.8366000056266785\n"
     ]
    }
   ],
   "source": [
    "score, acc = model.evaluate(x_test, y_test, batch_size=batch_size)\n",
    "print(\"Test score:\", score)\n",
    "print(\"Test accuracy:\", acc)"
   ]
  },
  {
   "cell_type": "markdown",
   "id": "d364bfec-4607-47c8-a203-72840d92d4ab",
   "metadata": {},
   "source": [
    "## 📌 6. Visualize Training History\n",
    "We plot **training vs validation accuracy** and **training vs validation loss**."
   ]
  },
  {
   "cell_type": "code",
   "execution_count": 13,
   "id": "7b4c6f60-c811-4c31-961b-2a557f4e0b3a",
   "metadata": {},
   "outputs": [
    {
     "data": {
      "text/plain": [
       "<Figure size 1200x400 with 0 Axes>"
      ]
     },
     "execution_count": 13,
     "metadata": {},
     "output_type": "execute_result"
    },
    {
     "data": {
      "text/plain": [
       "<Figure size 1200x400 with 0 Axes>"
      ]
     },
     "metadata": {},
     "output_type": "display_data"
    }
   ],
   "source": [
    "plt.figure(figsize=(12, 4))"
   ]
  },
  {
   "cell_type": "code",
   "execution_count": 15,
   "id": "71f235d6-6e32-4872-acca-312d94358752",
   "metadata": {},
   "outputs": [
    {
     "data": {
      "image/png": "[encoded data removed]",
      "text/plain": [
       "<Figure size 640x480 with 2 Axes>"
      ]
     },
     "metadata": {},
     "output_type": "display_data"
    }
   ],
   "source": [
    "# Accuracy plot\n",
    "plt.subplot(1, 2, 1)\n",
    "plt.plot(history.history['accuracy'], label='Train acc')\n",
    "plt.plot(history.history['val_accuracy'], label='Val acc')\n",
    "plt.title('Training and Validation Accuracy')\n",
    "plt.xlabel('Epochs')\n",
    "plt.ylabel('Accuracy')\n",
    "plt.legend()\n",
    "\n",
    "# Loss plot\n",
    "plt.subplot(1, 2, 2)\n",
    "plt.plot(history.history['loss'], label='Train loss')\n",
    "plt.plot(history.history['val_loss'], label='Val loss')\n",
    "plt.title('Training and Validation Loss')\n",
    "plt.xlabel('Epochs')\n",
    "plt.ylabel('Loss')\n",
    "plt.legend()\n",
    "\n",
    "plt.show()\n"
   ]
  },
  {
   "cell_type": "markdown",
   "id": "38aca79a-f630-4a43-b394-2dd333888828",
   "metadata": {},
   "source": [
    "## 📌 7. Results & Insights\n",
    "- The model typically achieves **~85% accuracy** on the IMDB test set.\n",
    "- LSTM captures **long-term dependencies** in text better than simple RNNs.\n",
    "- Adding **dropout & recurrent dropout** improves generalization.\n",
    "\n",
    "✅ This model is a good baseline for text sentiment analysis!\n"
   ]
  },
  {
   "cell_type": "code",
   "execution_count": null,
   "id": "4eb5bcbf-8aab-4811-9a8e-bd59fda009c6",
   "metadata": {},
   "outputs": [],
   "source": []
  },
  {
   "cell_type": "code",
   "execution_count": null,
   "id": "0e3035f6-997b-4d5d-a2ff-923c97c1bbaa",
   "metadata": {},
   "outputs": [],
   "source": []
  },
  {
   "cell_type": "code",
   "execution_count": null,
   "id": "0133bf64-3768-4e73-98c5-428a984c5cb8",
   "metadata": {},
   "outputs": [],
   "source": []
  },
  {
   "cell_type": "code",
   "execution_count": null,
   "id": "195bb7b8-3492-4665-82c5-1117c109762f",
   "metadata": {},
   "outputs": [],
   "source": []
  }
 ],
 "metadata": {
  "kernelspec": {
   "display_name": "Python 3 (ipykernel)",
   "language": "python",
   "name": "python3"
  },
  "language_info": {
   "codemirror_mode": {
    "name": "ipython",
    "version": 3
   },
   "file_extension": ".py",
   "mimetype": "text/x-python",
   "name": "python",
   "nbconvert_exporter": "python",
   "pygments_lexer": "ipython3",
   "version": "3.9.23"
  }
 },
 "nbformat": 4,
 "nbformat_minor": 5
}
